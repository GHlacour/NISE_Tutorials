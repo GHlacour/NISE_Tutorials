{
 "cells": [
  {
   "cell_type": "code",
   "execution_count": 3,
   "metadata": {},
   "outputs": [],
   "source": [
    "import numpy as np\n",
    "# This script generates the input files calculating linear abs for NISE\n",
    "# It will also run the NISE calculations provided that the correct path to\n",
    "# NISE program is ndicated.\n",
    "\n",
    "# Input:\n",
    "# - Site energies (text)\n",
    "# - Protein structure\n",
    "# Output:\n",
    "# - energy trajectories\n",
    "# - dipole trajectories\n",
    "# - NISE input files (translation, Absorption, 2DES, ...)\n",
    "\n",
    "#  Files\n",
    "f_pdb = '1rwt.pdb' # Structure pdb\n",
    "f_site = 'Site.txt' # Site energies\n",
    "f_ham = 'Energy' # Hamiltonian input for NISE\n",
    "f_dp = 'Dipole' # Dipole input for NISE\n",
    "f_pos = 'Position' # Position input for NISE\n",
    "f_i1D = 'input1D' # NISE absorption calculation parameters\n",
    "f_iTra = 'inpTra' # NISE translate parameters\n",
    "f_i2D = 'input2D' # NISE 2D calculation parameters\n",
    "f_iCG2D = 'inputCG2D' # NISE coarse grained 2D calculation\n",
    "f_iDif = 'inputDif' # NISE Diffusion\n",
    "f_iPop = 'inputPop' # NISE population transfer\n",
    "f_iAnalyse = 'inputAnalyse' # NISE Analyze\n",
    "f_iLum = 'inputLum' # NISE Luminescence\n",
    "f_iCD = 'inputCD' # NISE circular dichroism\n",
    "f_iLD = 'inputLD' # NISE linear dichroism\n",
    "f_iDOS = 'inputDOS' # NISE density of states\n",
    "\n",
    "# Parameter\n",
    "E0 = np.genfromtxt('Site.txt') # Site energies [cm-1]\n",
    "E0 = E0.astype('int16')\n",
    "sigma = np.array([150, 6000]) # Disorders (static & dynamic) [cm-1]\n",
    "tauc = np.array([100, 1000000]) # Correlation time [fs]\n",
    "dt = 1 # Time step [fs]\n",
    "N = E0.size # Number of chromophores (singles)\n",
    "Nstep = 10001 # Number of time steps\n",
    "taudeph = 100 # Dephasing time [fs]\n",
    "t1 = np.array(range(0,Nstep,dt)) # Time array [fs]\n",
    "Tw = 0 # Waiting time for 2DES [fs]\n",
    "T = 300 # Temperature [K]\n",
    "\n",
    "### NISE input parameters\n",
    "# For translation between bin and txt\n",
    "niseTra = {\n",
    "    'InputEnergy': f_ham + '.bin',\n",
    "    'InputDipole': f_dp + '.bin',\n",
    "    'OutputEnergy': f_ham + '.txt',\n",
    "    'OutputDipole': f_dp + '.txt',\n",
    "    'Singles': N,\n",
    "    'Doubles': 0,\n",
    "    'Skip': 'Doubles',\n",
    "    'Length': Nstep,\n",
    "    'InputFormat': 'GROBIN',\n",
    "    'OutputFormat': 'GROASC'\n",
    "}\n",
    "\n",
    "# For 1D (absorption) calculation\n",
    "nise1D = {\n",
    "    'Propagation': 'Coupling',\n",
    "    'Couplingcut': 0,\n",
    "    'Threshold': 0.001,\n",
    "    'Hamiltonianfile': f_ham + '.bin',\n",
    "    'Dipolefile': f_dp + '.bin',\n",
    "    'Length': Nstep,\n",
    "    'Samplerate': 20,\n",
    "    'Lifetime': taudeph,\n",
    "    'Timestep': dt,\n",
    "    'Trotter': 1,\n",
    "    'Anharmonicity': 100,\n",
    "    'Format': 'Dislin',\n",
    "    'MinFrequencies': [14000, 14000, 14000],\n",
    "    'MaxFrequencies': [16500, 16500, 16500],\n",
    "    'Technique': 'Absorption',\n",
    "    'FFT': 2048,\n",
    "    'RunTimes': [round(1.5*taudeph/dt), 0, round(1.5*taudeph/dt)],\n",
    "    'Singles': N\n",
    "}\n",
    "\n",
    "### Generate energy trajectories\n",
    "# Generating the trajectories of E0 based on overdamped brownian oscillator model\n",
    "# The amplitude is sigma, corrleation time is tauc\n",
    "dE = np.zeros((N,Nstep))\n",
    "E = np.copy(dE)\n",
    "dE[:,0] = np.sum(sigma*np.random.randn(N,len(sigma)),axis=1)\n",
    "E[:,0] = E0 + dE[:,0]\n",
    "for nt in range(1,Nstep):\n",
    "    dE[:,nt] = dE[:,nt-1]*np.prod(np.exp(-1/tauc*(t1[nt]-t1[nt-1]))) + np.sum(sigma*np.random.randn(N,len(sigma))*np.sqrt(1-np.exp(-2/tauc*(t1[nt]-t1[nt-1]))),axis=1)\n",
    "    E[:,nt] = E0 + dE[:,nt]\n",
    "\n",
    "\n",
    "            \n",
    "\n",
    "\n",
    "### Write to files"
   ]
  },
  {
   "cell_type": "code",
   "execution_count": 165,
   "metadata": {},
   "outputs": [
    {
     "name": "stderr",
     "output_type": "stream",
     "text": [
      "/home/long/.local/lib/python3.10/site-packages/Bio/PDB/StructureBuilder.py:89: PDBConstructionWarning: WARNING: Chain A is discontinuous at line 19361.\n",
      "  warnings.warn(\n",
      "/home/long/.local/lib/python3.10/site-packages/Bio/PDB/StructureBuilder.py:89: PDBConstructionWarning: WARNING: Chain B is discontinuous at line 20534.\n",
      "  warnings.warn(\n",
      "/home/long/.local/lib/python3.10/site-packages/Bio/PDB/StructureBuilder.py:89: PDBConstructionWarning: WARNING: Chain C is discontinuous at line 21816.\n",
      "  warnings.warn(\n",
      "/home/long/.local/lib/python3.10/site-packages/Bio/PDB/StructureBuilder.py:89: PDBConstructionWarning: WARNING: Chain D is discontinuous at line 22922.\n",
      "  warnings.warn(\n",
      "/home/long/.local/lib/python3.10/site-packages/Bio/PDB/StructureBuilder.py:89: PDBConstructionWarning: WARNING: Chain E is discontinuous at line 24160.\n",
      "  warnings.warn(\n",
      "/home/long/.local/lib/python3.10/site-packages/Bio/PDB/StructureBuilder.py:89: PDBConstructionWarning: WARNING: Chain F is discontinuous at line 25332.\n",
      "  warnings.warn(\n",
      "/home/long/.local/lib/python3.10/site-packages/Bio/PDB/StructureBuilder.py:89: PDBConstructionWarning: WARNING: Chain G is discontinuous at line 26438.\n",
      "  warnings.warn(\n",
      "/home/long/.local/lib/python3.10/site-packages/Bio/PDB/StructureBuilder.py:89: PDBConstructionWarning: WARNING: Chain H is discontinuous at line 27566.\n",
      "  warnings.warn(\n",
      "/home/long/.local/lib/python3.10/site-packages/Bio/PDB/StructureBuilder.py:89: PDBConstructionWarning: WARNING: Chain I is discontinuous at line 28804.\n",
      "  warnings.warn(\n",
      "/home/long/.local/lib/python3.10/site-packages/Bio/PDB/StructureBuilder.py:89: PDBConstructionWarning: WARNING: Chain J is discontinuous at line 29976.\n",
      "  warnings.warn(\n",
      "/home/long/.local/lib/python3.10/site-packages/Bio/PDB/StructureBuilder.py:89: PDBConstructionWarning: WARNING: Chain A is discontinuous at line 31082.\n",
      "  warnings.warn(\n",
      "/home/long/.local/lib/python3.10/site-packages/Bio/PDB/StructureBuilder.py:89: PDBConstructionWarning: WARNING: Chain B is discontinuous at line 31142.\n",
      "  warnings.warn(\n",
      "/home/long/.local/lib/python3.10/site-packages/Bio/PDB/StructureBuilder.py:89: PDBConstructionWarning: WARNING: Chain C is discontinuous at line 31220.\n",
      "  warnings.warn(\n",
      "/home/long/.local/lib/python3.10/site-packages/Bio/PDB/StructureBuilder.py:89: PDBConstructionWarning: WARNING: Chain D is discontinuous at line 31289.\n",
      "  warnings.warn(\n",
      "/home/long/.local/lib/python3.10/site-packages/Bio/PDB/StructureBuilder.py:89: PDBConstructionWarning: WARNING: Chain E is discontinuous at line 31366.\n",
      "  warnings.warn(\n",
      "/home/long/.local/lib/python3.10/site-packages/Bio/PDB/StructureBuilder.py:89: PDBConstructionWarning: WARNING: Chain F is discontinuous at line 31433.\n",
      "  warnings.warn(\n",
      "/home/long/.local/lib/python3.10/site-packages/Bio/PDB/StructureBuilder.py:89: PDBConstructionWarning: WARNING: Chain G is discontinuous at line 31506.\n",
      "  warnings.warn(\n",
      "/home/long/.local/lib/python3.10/site-packages/Bio/PDB/StructureBuilder.py:89: PDBConstructionWarning: WARNING: Chain H is discontinuous at line 31577.\n",
      "  warnings.warn(\n",
      "/home/long/.local/lib/python3.10/site-packages/Bio/PDB/StructureBuilder.py:89: PDBConstructionWarning: WARNING: Chain I is discontinuous at line 31647.\n",
      "  warnings.warn(\n",
      "/home/long/.local/lib/python3.10/site-packages/Bio/PDB/StructureBuilder.py:89: PDBConstructionWarning: WARNING: Chain J is discontinuous at line 31715.\n",
      "  warnings.warn(\n"
     ]
    },
    {
     "ename": "NameError",
     "evalue": "name 'm' is not defined",
     "output_type": "error",
     "traceback": [
      "\u001b[0;31m---------------------------------------------------------------------------\u001b[0m",
      "\u001b[0;31mNameError\u001b[0m                                 Traceback (most recent call last)",
      "Cell \u001b[0;32mIn[165], line 22\u001b[0m\n\u001b[1;32m     20\u001b[0m             \u001b[39mfor\u001b[39;00m residue \u001b[39min\u001b[39;00m chain:\n\u001b[1;32m     21\u001b[0m                 \u001b[39mif\u001b[39;00m residue\u001b[39m.\u001b[39mresname \u001b[39min\u001b[39;00m pick_residue:    \n\u001b[0;32m---> 22\u001b[0m                     aatom\u001b[39m.\u001b[39madd(m,residue)                  \n\u001b[1;32m     23\u001b[0m                     \u001b[39m# for atom in residue:\u001b[39;00m\n\u001b[1;32m     24\u001b[0m                         \u001b[39m# if atom.id in pick_atom:\u001b[39;00m\n\u001b[1;32m     25\u001b[0m                         \u001b[39m# aatom = atom.copy\u001b[39;00m\n\u001b[0;32m   (...)\u001b[0m\n\u001b[1;32m     41\u001b[0m \u001b[39m# nc = np.resize(nc[1:], (N,3)) \u001b[39;00m\n\u001b[1;32m     42\u001b[0m \u001b[39m# nd = np.resize(nd[1:], (N,3))\u001b[39;00m\n",
      "\u001b[0;31mNameError\u001b[0m: name 'm' is not defined"
     ]
    }
   ],
   "source": [
    "from Bio.PDB import *\n",
    "\n",
    "# Read coordinates from pdb file\n",
    "p = PDBParser()\n",
    "s = p.get_structure(\"1rwt\", \"1rwt.pdb\")\n",
    "# Choose chains, residues and atom types                    \n",
    "pick_chain = \"CEH\"\n",
    "pick_residue = [\"CHL\",\"CLA\"]\n",
    "pick_atom = [\"MG\",\"NA\",\"NB\",\"NC\",\"ND\"]\n",
    "# get coordinates for MG, NA, NB, NC, ND\n",
    "mg = np.empty\n",
    "na = np.empty\n",
    "nb = np.empty\n",
    "nc = np.empty\n",
    "nd = np.empty\n",
    "aatom = Entity.Entity\n",
    "for chains in s:\n",
    "    for chain in chains:\n",
    "        if chain.id in pick_chain:\n",
    "            for residue in chain:\n",
    "                if residue.resname in pick_residue:    \n",
    "                    aatom.add(aatom,residue)                  \n",
    "                    # for atom in residue:\n",
    "                        # if atom.id in pick_atom:\n",
    "                        # aatom = atom.copy\n",
    "                        # print(aatom)\n",
    "#                         if atom.id==\"MG\":\n",
    "#                             mg = np.append(mg,np.array(atom.coord))\n",
    "#                         if atom.id==\"NA\":\n",
    "#                             na = np.append(na,np.array(atom.coord))                        \n",
    "#                         if atom.id==\"NB\":\n",
    "#                             nb = np.append(nb,np.array(atom.coord))\n",
    "#                         if atom.id==\"NC\":\n",
    "#                             nc = np.append(nc,np.array(atom.coord))\n",
    "#                         if atom.id==\"ND\":\n",
    "#                             nd = np.append(nd,np.array(atom.coord))\n",
    "# N = int(np.size(mg[1:])/3)\n",
    "# mg = np.resize(mg[1:], (N,3)) \n",
    "# na = np.resize(na[1:], (N,3)) \n",
    "# nb = np.resize(nb[1:], (N,3)) \n",
    "# nc = np.resize(nc[1:], (N,3)) \n",
    "# nd = np.resize(nd[1:], (N,3))\n",
    "\n"
   ]
  },
  {
   "cell_type": "code",
   "execution_count": 166,
   "metadata": {},
   "outputs": [
    {
     "name": "stdout",
     "output_type": "stream",
     "text": [
      "<function Entity.__len__ at 0x7fbac71bc550>\n"
     ]
    }
   ],
   "source": [
    "print(aatom.__len__)"
   ]
  },
  {
   "cell_type": "code",
   "execution_count": 166,
   "metadata": {},
   "outputs": [
    {
     "data": {
      "text/plain": [
       "(14, 10001)"
      ]
     },
     "execution_count": 166,
     "metadata": {},
     "output_type": "execute_result"
    },
    {
     "data": {
      "image/png": "[encoded data removed]",
      "text/plain": [
       "<Figure size 640x480 with 1 Axes>"
      ]
     },
     "metadata": {},
     "output_type": "display_data"
    }
   ],
   "source": [
    "import matplotlib.pyplot as plt\n",
    "fig, ax = plt.subplots()\n",
    "ax.plot(t1,dE[0,:])\n",
    "ax.plot(t1,dE[1,:])\n",
    "dE.shape\n"
   ]
  },
  {
   "cell_type": "code",
   "execution_count": 160,
   "metadata": {},
   "outputs": [
    {
     "data": {
      "text/plain": [
       "10001"
      ]
     },
     "execution_count": 160,
     "metadata": {},
     "output_type": "execute_result"
    }
   ],
   "source": [
    "len(t1)"
   ]
  }
 ],
 "metadata": {
  "kernelspec": {
   "display_name": "Python 3",
   "language": "python",
   "name": "python3"
  },
  "language_info": {
   "codemirror_mode": {
    "name": "ipython",
    "version": 3
   },
   "file_extension": ".py",
   "mimetype": "text/x-python",
   "name": "python",
   "nbconvert_exporter": "python",
   "pygments_lexer": "ipython3",
   "version": "3.10.6"
  },
  "orig_nbformat": 4,
  "vscode": {
   "interpreter": {
    "hash": "916dbcbb3f70747c44a77c7bcd40155683ae19c65e1c03b4aa3499c5328201f1"
   }
  }
 },
 "nbformat": 4,
 "nbformat_minor": 2
}
